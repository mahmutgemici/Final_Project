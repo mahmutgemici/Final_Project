{
 "cells": [
  {
   "cell_type": "code",
   "execution_count": 1,
   "metadata": {},
   "outputs": [
    {
     "name": "stdout",
     "output_type": "stream",
     "text": [
      "Requirement already satisfied: imbalanced-learn in /Users/mahmutgemici/miniconda3/lib/python3.8/site-packages (0.7.0)\n",
      "Requirement already satisfied: numpy>=1.13.3 in /Users/mahmutgemici/miniconda3/lib/python3.8/site-packages (from imbalanced-learn) (1.19.1)\n",
      "Requirement already satisfied: joblib>=0.11 in /Users/mahmutgemici/miniconda3/lib/python3.8/site-packages (from imbalanced-learn) (0.17.0)\n",
      "Requirement already satisfied: scipy>=0.19.1 in /Users/mahmutgemici/miniconda3/lib/python3.8/site-packages (from imbalanced-learn) (1.5.0)\n",
      "Requirement already satisfied: scikit-learn>=0.23 in /Users/mahmutgemici/miniconda3/lib/python3.8/site-packages (from imbalanced-learn) (0.23.2)\n",
      "Requirement already satisfied: torch==1.6.0 in /Users/mahmutgemici/miniconda3/lib/python3.8/site-packages (from numpy>=1.13.3->imbalanced-learn) (1.6.0)\n",
      "Requirement already satisfied: pillow>=4.1.1 in /Users/mahmutgemici/miniconda3/lib/python3.8/site-packages (from numpy>=1.13.3->imbalanced-learn) (7.2.0)\n",
      "Requirement already satisfied: threadpoolctl>=2.0.0 in /Users/mahmutgemici/miniconda3/lib/python3.8/site-packages (from scikit-learn>=0.23->imbalanced-learn) (2.1.0)\n",
      "Requirement already satisfied: future in /Users/mahmutgemici/miniconda3/lib/python3.8/site-packages (from torch==1.6.0->numpy>=1.13.3->imbalanced-learn) (0.18.2)\n",
      "\u001b[33mWARNING: You are using pip version 20.2.4; however, version 20.3.1 is available.\n",
      "You should consider upgrading via the '/Users/mahmutgemici/miniconda3/bin/python -m pip install --upgrade pip' command.\u001b[0m\n",
      "Note: you may need to restart the kernel to use updated packages.\n"
     ]
    }
   ],
   "source": [
    "pip install imbalanced-learn"
   ]
  },
  {
   "cell_type": "code",
   "execution_count": 2,
   "metadata": {
    "id": "VvpcOlU6ehRi"
   },
   "outputs": [],
   "source": [
    "import pandas \n",
    "from keras.models import Sequential\n",
    "from keras.layers import Dense\n",
    "from keras.wrappers.scikit_learn import KerasClassifier\n",
    "from sklearn.model_selection import cross_val_score\n",
    "from sklearn.preprocessing import LabelEncoder\n",
    "from sklearn.model_selection import StratifiedKFold\n",
    "from sklearn.preprocessing import StandardScaler\n",
    "from sklearn.pipeline import Pipeline\n"
   ]
  },
  {
   "cell_type": "code",
   "execution_count": 3,
   "metadata": {
    "id": "VXEpJ79hhnnB"
   },
   "outputs": [],
   "source": [
    "df= pandas.read_csv(\"PitchPineMortality.csv\")"
   ]
  },
  {
   "cell_type": "code",
   "execution_count": 4,
   "metadata": {
    "colab": {
     "base_uri": "https://localhost:8080/",
     "height": 407
    },
    "id": "zu9aW0mOqQ4w",
    "outputId": "f89c1cd0-ab2b-4395-d844-5c5491809948"
   },
   "outputs": [
    {
     "data": {
      "text/html": [
       "<div>\n",
       "<style scoped>\n",
       "    .dataframe tbody tr th:only-of-type {\n",
       "        vertical-align: middle;\n",
       "    }\n",
       "\n",
       "    .dataframe tbody tr th {\n",
       "        vertical-align: top;\n",
       "    }\n",
       "\n",
       "    .dataframe thead th {\n",
       "        text-align: right;\n",
       "    }\n",
       "</style>\n",
       "<table border=\"1\" class=\"dataframe\">\n",
       "  <thead>\n",
       "    <tr style=\"text-align: right;\">\n",
       "      <th></th>\n",
       "      <th>Shortname</th>\n",
       "      <th>CLASS</th>\n",
       "      <th>Status</th>\n",
       "      <th>Fire</th>\n",
       "      <th>Type</th>\n",
       "      <th>Diameter_cm</th>\n",
       "      <th>Height_m</th>\n",
       "      <th>2013 status</th>\n",
       "      <th>2014 Status</th>\n",
       "      <th>Response</th>\n",
       "    </tr>\n",
       "  </thead>\n",
       "  <tbody>\n",
       "    <tr>\n",
       "      <th>0</th>\n",
       "      <td>B5-012814-1</td>\n",
       "      <td>1</td>\n",
       "      <td>Pre</td>\n",
       "      <td>0</td>\n",
       "      <td>nf</td>\n",
       "      <td>14</td>\n",
       "      <td>5</td>\n",
       "      <td>live</td>\n",
       "      <td>live</td>\n",
       "      <td>0</td>\n",
       "    </tr>\n",
       "    <tr>\n",
       "      <th>1</th>\n",
       "      <td>B5-012814-1</td>\n",
       "      <td>1</td>\n",
       "      <td>Pre</td>\n",
       "      <td>0</td>\n",
       "      <td>nf</td>\n",
       "      <td>13</td>\n",
       "      <td>7</td>\n",
       "      <td>live</td>\n",
       "      <td>live</td>\n",
       "      <td>0</td>\n",
       "    </tr>\n",
       "    <tr>\n",
       "      <th>2</th>\n",
       "      <td>B5-012814-1</td>\n",
       "      <td>1</td>\n",
       "      <td>Pre</td>\n",
       "      <td>0</td>\n",
       "      <td>nf</td>\n",
       "      <td>5</td>\n",
       "      <td>3</td>\n",
       "      <td>live</td>\n",
       "      <td>live</td>\n",
       "      <td>0</td>\n",
       "    </tr>\n",
       "    <tr>\n",
       "      <th>3</th>\n",
       "      <td>B5-012814-1</td>\n",
       "      <td>1</td>\n",
       "      <td>Pre</td>\n",
       "      <td>0</td>\n",
       "      <td>nf</td>\n",
       "      <td>13</td>\n",
       "      <td>7</td>\n",
       "      <td>live</td>\n",
       "      <td>live</td>\n",
       "      <td>0</td>\n",
       "    </tr>\n",
       "    <tr>\n",
       "      <th>4</th>\n",
       "      <td>B5-012814-1</td>\n",
       "      <td>1</td>\n",
       "      <td>Pre</td>\n",
       "      <td>0</td>\n",
       "      <td>nf</td>\n",
       "      <td>6</td>\n",
       "      <td>4</td>\n",
       "      <td>live</td>\n",
       "      <td>live</td>\n",
       "      <td>0</td>\n",
       "    </tr>\n",
       "  </tbody>\n",
       "</table>\n",
       "</div>"
      ],
      "text/plain": [
       "     Shortname  CLASS Status  Fire Type  Diameter_cm  Height_m 2013 status  \\\n",
       "0  B5-012814-1      1    Pre     0   nf           14         5        live   \n",
       "1  B5-012814-1      1    Pre     0   nf           13         7        live   \n",
       "2  B5-012814-1      1    Pre     0   nf            5         3        live   \n",
       "3  B5-012814-1      1    Pre     0   nf           13         7        live   \n",
       "4  B5-012814-1      1    Pre     0   nf            6         4        live   \n",
       "\n",
       "  2014 Status  Response  \n",
       "0        live         0  \n",
       "1        live         0  \n",
       "2        live         0  \n",
       "3        live         0  \n",
       "4        live         0  "
      ]
     },
     "execution_count": 4,
     "metadata": {},
     "output_type": "execute_result"
    }
   ],
   "source": [
    "df.head()"
   ]
  },
  {
   "cell_type": "code",
   "execution_count": 5,
   "metadata": {
    "colab": {
     "base_uri": "https://localhost:8080/"
    },
    "id": "colQiOPKqc_g",
    "outputId": "1053974c-a00f-4d97-93c3-4abdf3d66ece"
   },
   "outputs": [
    {
     "data": {
      "text/plain": [
       "Index(['Shortname', 'CLASS', 'Status', 'Fire', 'Type', 'Diameter_cm',\n",
       "       'Height_m', '2013 status', '2014 Status', 'Response'],\n",
       "      dtype='object')"
      ]
     },
     "execution_count": 5,
     "metadata": {},
     "output_type": "execute_result"
    }
   ],
   "source": [
    "df.columns"
   ]
  },
  {
   "cell_type": "code",
   "execution_count": 6,
   "metadata": {
    "colab": {
     "base_uri": "https://localhost:8080/",
     "height": 548
    },
    "id": "l8TOCaO1916p",
    "outputId": "30e0bb72-e42c-47a7-db39-a39d08c60b96"
   },
   "outputs": [],
   "source": [
    "df = pandas.get_dummies(df, columns=[\"Type\"], prefix=[\"Type is\"] )\n",
    "df = pandas.get_dummies(df, columns=[\"Status\"], prefix=[\"Status is\"] )"
   ]
  },
  {
   "cell_type": "code",
   "execution_count": 7,
   "metadata": {
    "id": "6EDGtbqyGuOJ"
   },
   "outputs": [],
   "source": [
    "x=df[['CLASS', 'Fire', 'Diameter_cm', 'Height_m',\n",
    "       'Response', 'Type is_nf', 'Type is_rxb', 'Type is_wf',\n",
    "       'Status is_Plus 1', 'Status is_Post+1', 'Status is_Pre']]\n",
    "\n",
    "y=df[\"Response\"]     "
   ]
  },
  {
   "cell_type": "code",
   "execution_count": 8,
   "metadata": {},
   "outputs": [
    {
     "data": {
      "text/html": [
       "<div>\n",
       "<style scoped>\n",
       "    .dataframe tbody tr th:only-of-type {\n",
       "        vertical-align: middle;\n",
       "    }\n",
       "\n",
       "    .dataframe tbody tr th {\n",
       "        vertical-align: top;\n",
       "    }\n",
       "\n",
       "    .dataframe thead th {\n",
       "        text-align: right;\n",
       "    }\n",
       "</style>\n",
       "<table border=\"1\" class=\"dataframe\">\n",
       "  <thead>\n",
       "    <tr style=\"text-align: right;\">\n",
       "      <th></th>\n",
       "      <th>CLASS</th>\n",
       "      <th>Fire</th>\n",
       "      <th>Diameter_cm</th>\n",
       "      <th>Height_m</th>\n",
       "      <th>Response</th>\n",
       "      <th>Type is_nf</th>\n",
       "      <th>Type is_rxb</th>\n",
       "      <th>Type is_wf</th>\n",
       "      <th>Status is_Plus 1</th>\n",
       "      <th>Status is_Post+1</th>\n",
       "      <th>Status is_Pre</th>\n",
       "    </tr>\n",
       "  </thead>\n",
       "  <tbody>\n",
       "    <tr>\n",
       "      <th>0</th>\n",
       "      <td>1</td>\n",
       "      <td>0</td>\n",
       "      <td>14</td>\n",
       "      <td>5</td>\n",
       "      <td>0</td>\n",
       "      <td>1</td>\n",
       "      <td>0</td>\n",
       "      <td>0</td>\n",
       "      <td>0</td>\n",
       "      <td>0</td>\n",
       "      <td>1</td>\n",
       "    </tr>\n",
       "    <tr>\n",
       "      <th>1</th>\n",
       "      <td>1</td>\n",
       "      <td>0</td>\n",
       "      <td>13</td>\n",
       "      <td>7</td>\n",
       "      <td>0</td>\n",
       "      <td>1</td>\n",
       "      <td>0</td>\n",
       "      <td>0</td>\n",
       "      <td>0</td>\n",
       "      <td>0</td>\n",
       "      <td>1</td>\n",
       "    </tr>\n",
       "    <tr>\n",
       "      <th>2</th>\n",
       "      <td>1</td>\n",
       "      <td>0</td>\n",
       "      <td>5</td>\n",
       "      <td>3</td>\n",
       "      <td>0</td>\n",
       "      <td>1</td>\n",
       "      <td>0</td>\n",
       "      <td>0</td>\n",
       "      <td>0</td>\n",
       "      <td>0</td>\n",
       "      <td>1</td>\n",
       "    </tr>\n",
       "    <tr>\n",
       "      <th>3</th>\n",
       "      <td>1</td>\n",
       "      <td>0</td>\n",
       "      <td>13</td>\n",
       "      <td>7</td>\n",
       "      <td>0</td>\n",
       "      <td>1</td>\n",
       "      <td>0</td>\n",
       "      <td>0</td>\n",
       "      <td>0</td>\n",
       "      <td>0</td>\n",
       "      <td>1</td>\n",
       "    </tr>\n",
       "    <tr>\n",
       "      <th>4</th>\n",
       "      <td>1</td>\n",
       "      <td>0</td>\n",
       "      <td>6</td>\n",
       "      <td>4</td>\n",
       "      <td>0</td>\n",
       "      <td>1</td>\n",
       "      <td>0</td>\n",
       "      <td>0</td>\n",
       "      <td>0</td>\n",
       "      <td>0</td>\n",
       "      <td>1</td>\n",
       "    </tr>\n",
       "    <tr>\n",
       "      <th>...</th>\n",
       "      <td>...</td>\n",
       "      <td>...</td>\n",
       "      <td>...</td>\n",
       "      <td>...</td>\n",
       "      <td>...</td>\n",
       "      <td>...</td>\n",
       "      <td>...</td>\n",
       "      <td>...</td>\n",
       "      <td>...</td>\n",
       "      <td>...</td>\n",
       "      <td>...</td>\n",
       "    </tr>\n",
       "    <tr>\n",
       "      <th>2653</th>\n",
       "      <td>1</td>\n",
       "      <td>1</td>\n",
       "      <td>11</td>\n",
       "      <td>10</td>\n",
       "      <td>0</td>\n",
       "      <td>0</td>\n",
       "      <td>1</td>\n",
       "      <td>0</td>\n",
       "      <td>0</td>\n",
       "      <td>0</td>\n",
       "      <td>1</td>\n",
       "    </tr>\n",
       "    <tr>\n",
       "      <th>2654</th>\n",
       "      <td>1</td>\n",
       "      <td>1</td>\n",
       "      <td>23</td>\n",
       "      <td>14</td>\n",
       "      <td>0</td>\n",
       "      <td>0</td>\n",
       "      <td>1</td>\n",
       "      <td>0</td>\n",
       "      <td>0</td>\n",
       "      <td>0</td>\n",
       "      <td>1</td>\n",
       "    </tr>\n",
       "    <tr>\n",
       "      <th>2655</th>\n",
       "      <td>1</td>\n",
       "      <td>1</td>\n",
       "      <td>10</td>\n",
       "      <td>10</td>\n",
       "      <td>0</td>\n",
       "      <td>0</td>\n",
       "      <td>1</td>\n",
       "      <td>0</td>\n",
       "      <td>0</td>\n",
       "      <td>0</td>\n",
       "      <td>1</td>\n",
       "    </tr>\n",
       "    <tr>\n",
       "      <th>2656</th>\n",
       "      <td>1</td>\n",
       "      <td>1</td>\n",
       "      <td>15</td>\n",
       "      <td>13</td>\n",
       "      <td>0</td>\n",
       "      <td>0</td>\n",
       "      <td>1</td>\n",
       "      <td>0</td>\n",
       "      <td>0</td>\n",
       "      <td>0</td>\n",
       "      <td>1</td>\n",
       "    </tr>\n",
       "    <tr>\n",
       "      <th>2657</th>\n",
       "      <td>1</td>\n",
       "      <td>1</td>\n",
       "      <td>9</td>\n",
       "      <td>9</td>\n",
       "      <td>0</td>\n",
       "      <td>0</td>\n",
       "      <td>1</td>\n",
       "      <td>0</td>\n",
       "      <td>0</td>\n",
       "      <td>0</td>\n",
       "      <td>1</td>\n",
       "    </tr>\n",
       "  </tbody>\n",
       "</table>\n",
       "<p>2658 rows × 11 columns</p>\n",
       "</div>"
      ],
      "text/plain": [
       "      CLASS  Fire  Diameter_cm  Height_m  Response  Type is_nf  Type is_rxb  \\\n",
       "0         1     0           14         5         0           1            0   \n",
       "1         1     0           13         7         0           1            0   \n",
       "2         1     0            5         3         0           1            0   \n",
       "3         1     0           13         7         0           1            0   \n",
       "4         1     0            6         4         0           1            0   \n",
       "...     ...   ...          ...       ...       ...         ...          ...   \n",
       "2653      1     1           11        10         0           0            1   \n",
       "2654      1     1           23        14         0           0            1   \n",
       "2655      1     1           10        10         0           0            1   \n",
       "2656      1     1           15        13         0           0            1   \n",
       "2657      1     1            9         9         0           0            1   \n",
       "\n",
       "      Type is_wf  Status is_Plus 1  Status is_Post+1  Status is_Pre  \n",
       "0              0                 0                 0              1  \n",
       "1              0                 0                 0              1  \n",
       "2              0                 0                 0              1  \n",
       "3              0                 0                 0              1  \n",
       "4              0                 0                 0              1  \n",
       "...          ...               ...               ...            ...  \n",
       "2653           0                 0                 0              1  \n",
       "2654           0                 0                 0              1  \n",
       "2655           0                 0                 0              1  \n",
       "2656           0                 0                 0              1  \n",
       "2657           0                 0                 0              1  \n",
       "\n",
       "[2658 rows x 11 columns]"
      ]
     },
     "execution_count": 8,
     "metadata": {},
     "output_type": "execute_result"
    }
   ],
   "source": [
    "x"
   ]
  },
  {
   "cell_type": "code",
   "execution_count": 9,
   "metadata": {
    "colab": {
     "base_uri": "https://localhost:8080/"
    },
    "id": "V_xivpNgHcwv",
    "outputId": "f540d98e-8918-40f2-ddc0-64dfcd85221d"
   },
   "outputs": [
    {
     "data": {
      "text/plain": [
       "2658"
      ]
     },
     "execution_count": 9,
     "metadata": {},
     "output_type": "execute_result"
    }
   ],
   "source": [
    "x=x.astype(float)\n",
    "x.columns\n",
    "len(x)"
   ]
  },
  {
   "cell_type": "code",
   "execution_count": 10,
   "metadata": {
    "colab": {
     "base_uri": "https://localhost:8080/"
    },
    "id": "UiIqUcW6ae43",
    "outputId": "d8d39595-1c5e-4c6b-d9fa-14144d473ef7"
   },
   "outputs": [
    {
     "data": {
      "text/plain": [
       "3453"
      ]
     },
     "execution_count": 10,
     "metadata": {},
     "output_type": "execute_result"
    }
   ],
   "source": [
    "import imblearn\n",
    "from imblearn.over_sampling import RandomOverSampler\n",
    "oversample = RandomOverSampler(sampling_strategy='minority')\n",
    "oversample = RandomOverSampler(sampling_strategy=0.5)\n",
    "X, Y = oversample.fit_resample(x, y)\n",
    "len(X)"
   ]
  },
  {
   "cell_type": "code",
   "execution_count": 11,
   "metadata": {},
   "outputs": [
    {
     "data": {
      "text/plain": [
       "count    2658.000000\n",
       "mean        0.133935\n",
       "std         0.340647\n",
       "min         0.000000\n",
       "25%         0.000000\n",
       "50%         0.000000\n",
       "75%         0.000000\n",
       "max         1.000000\n",
       "Name: Response, dtype: float64"
      ]
     },
     "execution_count": 11,
     "metadata": {},
     "output_type": "execute_result"
    }
   ],
   "source": [
    "df[\"Response\"].describe()"
   ]
  },
  {
   "cell_type": "code",
   "execution_count": 12,
   "metadata": {
    "id": "XQaSDfFmJ-dG"
   },
   "outputs": [],
   "source": [
    "model = Sequential()\n",
    "model.add(Dense(11, input_dim=11, activation='relu'))\n",
    "model.add(Dense(1, activation='sigmoid'))\n",
    "# Compile model\n",
    "model.compile(loss='binary_crossentropy', optimizer='adam', metrics=['accuracy'])"
   ]
  },
  {
   "cell_type": "code",
   "execution_count": 13,
   "metadata": {
    "colab": {
     "base_uri": "https://localhost:8080/"
    },
    "id": "SAkYSVKuJZgO",
    "outputId": "4487b0e2-48dc-46a6-cc4b-e0eeec419967"
   },
   "outputs": [
    {
     "name": "stdout",
     "output_type": "stream",
     "text": [
      "Epoch 1/40\n",
      "41/41 [==============================] - 0s 5ms/step - loss: 0.4421 - accuracy: 0.8648 - val_loss: 1.0605 - val_accuracy: 0.3310\n",
      "Epoch 2/40\n",
      "41/41 [==============================] - 0s 2ms/step - loss: 0.3226 - accuracy: 0.8919 - val_loss: 1.0450 - val_accuracy: 0.4236\n",
      "Epoch 3/40\n",
      "41/41 [==============================] - 0s 1ms/step - loss: 0.2675 - accuracy: 0.9085 - val_loss: 0.9921 - val_accuracy: 0.5127\n",
      "Epoch 4/40\n",
      "41/41 [==============================] - 0s 2ms/step - loss: 0.2318 - accuracy: 0.9143 - val_loss: 0.8717 - val_accuracy: 0.5532\n",
      "Epoch 5/40\n",
      "41/41 [==============================] - 0s 2ms/step - loss: 0.2148 - accuracy: 0.9204 - val_loss: 0.8923 - val_accuracy: 0.5579\n",
      "Epoch 6/40\n",
      "41/41 [==============================] - 0s 2ms/step - loss: 0.2045 - accuracy: 0.9204 - val_loss: 0.8088 - val_accuracy: 0.5833\n",
      "Epoch 7/40\n",
      "41/41 [==============================] - 0s 2ms/step - loss: 0.1959 - accuracy: 0.9235 - val_loss: 0.8338 - val_accuracy: 0.5775\n",
      "Epoch 8/40\n",
      "41/41 [==============================] - 0s 1ms/step - loss: 0.1870 - accuracy: 0.9255 - val_loss: 0.7356 - val_accuracy: 0.6343\n",
      "Epoch 9/40\n",
      "41/41 [==============================] - 0s 1ms/step - loss: 0.1803 - accuracy: 0.9301 - val_loss: 0.7175 - val_accuracy: 0.6435\n",
      "Epoch 10/40\n",
      "41/41 [==============================] - 0s 1ms/step - loss: 0.1725 - accuracy: 0.9324 - val_loss: 0.7110 - val_accuracy: 0.6470\n",
      "Epoch 11/40\n",
      "41/41 [==============================] - 0s 1ms/step - loss: 0.1656 - accuracy: 0.9347 - val_loss: 0.6520 - val_accuracy: 0.6690\n",
      "Epoch 12/40\n",
      "41/41 [==============================] - 0s 2ms/step - loss: 0.1598 - accuracy: 0.9386 - val_loss: 0.5964 - val_accuracy: 0.6979\n",
      "Epoch 13/40\n",
      "41/41 [==============================] - 0s 2ms/step - loss: 0.1538 - accuracy: 0.9448 - val_loss: 0.6372 - val_accuracy: 0.6898\n",
      "Epoch 14/40\n",
      "41/41 [==============================] - 0s 2ms/step - loss: 0.1476 - accuracy: 0.9467 - val_loss: 0.5811 - val_accuracy: 0.7396\n",
      "Epoch 15/40\n",
      "41/41 [==============================] - 0s 2ms/step - loss: 0.1413 - accuracy: 0.9486 - val_loss: 0.5365 - val_accuracy: 0.7755\n",
      "Epoch 16/40\n",
      "41/41 [==============================] - 0s 1ms/step - loss: 0.1353 - accuracy: 0.9540 - val_loss: 0.5234 - val_accuracy: 0.7755\n",
      "Epoch 17/40\n",
      "41/41 [==============================] - 0s 2ms/step - loss: 0.1296 - accuracy: 0.9567 - val_loss: 0.5233 - val_accuracy: 0.7743\n",
      "Epoch 18/40\n",
      "41/41 [==============================] - 0s 2ms/step - loss: 0.1239 - accuracy: 0.9591 - val_loss: 0.5105 - val_accuracy: 0.7789\n",
      "Epoch 19/40\n",
      "41/41 [==============================] - 0s 2ms/step - loss: 0.1180 - accuracy: 0.9621 - val_loss: 0.4447 - val_accuracy: 0.8356\n",
      "Epoch 20/40\n",
      "41/41 [==============================] - 0s 2ms/step - loss: 0.1119 - accuracy: 0.9660 - val_loss: 0.4249 - val_accuracy: 0.8472\n",
      "Epoch 21/40\n",
      "41/41 [==============================] - 0s 1ms/step - loss: 0.1065 - accuracy: 0.9676 - val_loss: 0.3886 - val_accuracy: 0.8646\n",
      "Epoch 22/40\n",
      "41/41 [==============================] - 0s 1ms/step - loss: 0.1010 - accuracy: 0.9722 - val_loss: 0.3578 - val_accuracy: 0.8866\n",
      "Epoch 23/40\n",
      "41/41 [==============================] - 0s 2ms/step - loss: 0.0952 - accuracy: 0.9737 - val_loss: 0.3426 - val_accuracy: 0.8970\n",
      "Epoch 24/40\n",
      "41/41 [==============================] - 0s 2ms/step - loss: 0.0896 - accuracy: 0.9764 - val_loss: 0.3360 - val_accuracy: 0.9016\n",
      "Epoch 25/40\n",
      "41/41 [==============================] - 0s 1ms/step - loss: 0.0843 - accuracy: 0.9791 - val_loss: 0.3118 - val_accuracy: 0.9074\n",
      "Epoch 26/40\n",
      "41/41 [==============================] - 0s 2ms/step - loss: 0.0799 - accuracy: 0.9818 - val_loss: 0.3195 - val_accuracy: 0.9120\n",
      "Epoch 27/40\n",
      "41/41 [==============================] - 0s 2ms/step - loss: 0.0743 - accuracy: 0.9822 - val_loss: 0.2577 - val_accuracy: 0.9248\n",
      "Epoch 28/40\n",
      "41/41 [==============================] - 0s 2ms/step - loss: 0.0696 - accuracy: 0.9842 - val_loss: 0.2199 - val_accuracy: 0.9387\n",
      "Epoch 29/40\n",
      "41/41 [==============================] - 0s 2ms/step - loss: 0.0654 - accuracy: 0.9865 - val_loss: 0.2320 - val_accuracy: 0.9363\n",
      "Epoch 30/40\n",
      "41/41 [==============================] - 0s 1ms/step - loss: 0.0603 - accuracy: 0.9880 - val_loss: 0.2068 - val_accuracy: 0.9502\n",
      "Epoch 31/40\n",
      "41/41 [==============================] - 0s 1ms/step - loss: 0.0559 - accuracy: 0.9903 - val_loss: 0.1817 - val_accuracy: 0.9641\n",
      "Epoch 32/40\n",
      "41/41 [==============================] - 0s 1ms/step - loss: 0.0525 - accuracy: 0.9911 - val_loss: 0.1680 - val_accuracy: 0.9641\n",
      "Epoch 33/40\n",
      "41/41 [==============================] - 0s 1ms/step - loss: 0.0479 - accuracy: 0.9934 - val_loss: 0.1762 - val_accuracy: 0.9641\n",
      "Epoch 34/40\n",
      "41/41 [==============================] - 0s 2ms/step - loss: 0.0450 - accuracy: 0.9934 - val_loss: 0.1526 - val_accuracy: 0.9757\n",
      "Epoch 35/40\n",
      "41/41 [==============================] - 0s 2ms/step - loss: 0.0409 - accuracy: 0.9938 - val_loss: 0.1389 - val_accuracy: 0.9803\n",
      "Epoch 36/40\n",
      "41/41 [==============================] - 0s 2ms/step - loss: 0.0378 - accuracy: 0.9950 - val_loss: 0.1437 - val_accuracy: 0.9757\n",
      "Epoch 37/40\n",
      "41/41 [==============================] - 0s 2ms/step - loss: 0.0349 - accuracy: 0.9954 - val_loss: 0.1172 - val_accuracy: 0.9861\n",
      "Epoch 38/40\n",
      "41/41 [==============================] - 0s 2ms/step - loss: 0.0322 - accuracy: 0.9969 - val_loss: 0.1189 - val_accuracy: 0.9861\n",
      "Epoch 39/40\n",
      "41/41 [==============================] - 0s 1ms/step - loss: 0.0295 - accuracy: 0.9973 - val_loss: 0.1057 - val_accuracy: 0.9873\n",
      "Epoch 40/40\n",
      "41/41 [==============================] - 0s 2ms/step - loss: 0.0272 - accuracy: 0.9973 - val_loss: 0.0899 - val_accuracy: 0.9873\n"
     ]
    }
   ],
   "source": [
    "history=model.fit(X, Y, epochs=40, batch_size=64,validation_split=0.25)"
   ]
  },
  {
   "cell_type": "code",
   "execution_count": 14,
   "metadata": {
    "colab": {
     "base_uri": "https://localhost:8080/",
     "height": 295
    },
    "id": "ciaTId82LEbj",
    "outputId": "f26b43df-4bcd-471e-ae65-7cb8e39ebae5"
   },
   "outputs": [
    {
     "data": {
      "image/png": "[encoded data removed]",
      "text/plain": [
       "<Figure size 432x288 with 1 Axes>"
      ]
     },
     "metadata": {
      "needs_background": "light"
     },
     "output_type": "display_data"
    }
   ],
   "source": [
    "\n",
    "import keras\n",
    "from matplotlib import pyplot as plt\n",
    "plt.plot(history.history['accuracy'])\n",
    "plt.plot(history.history['val_accuracy'])\n",
    "plt.title('model accuracy')\n",
    "plt.ylabel('accuracy')\n",
    "plt.xlabel('epoch')\n",
    "plt.legend(['train', 'val'], loc='lower right')\n",
    "plt.show()"
   ]
  },
  {
   "cell_type": "code",
   "execution_count": 15,
   "metadata": {
    "colab": {
     "base_uri": "https://localhost:8080/",
     "height": 295
    },
    "id": "zAvNs5jrPoMQ",
    "outputId": "9770ac6d-8715-4cab-f08e-6919e4841a54"
   },
   "outputs": [
    {
     "data": {
      "image/png": "[encoded data removed]",
      "text/plain": [
       "<Figure size 432x288 with 1 Axes>"
      ]
     },
     "metadata": {
      "needs_background": "light"
     },
     "output_type": "display_data"
    }
   ],
   "source": [
    "plt.plot(history.history['loss'])\n",
    "plt.plot(history.history['val_loss'])\n",
    "plt.title('model loss')\n",
    "plt.ylabel('loss')\n",
    "plt.xlabel('epoch')\n",
    "plt.legend(['train', 'val'], loc='upper right')\n",
    "plt.show()"
   ]
  },
  {
   "cell_type": "code",
   "execution_count": null,
   "metadata": {},
   "outputs": [],
   "source": []
  }
 ],
 "metadata": {
  "colab": {
   "collapsed_sections": [],
   "name": "Project-1.ipynb",
   "provenance": []
  },
  "kernelspec": {
   "display_name": "Python 3",
   "language": "python",
   "name": "python3"
  },
  "language_info": {
   "codemirror_mode": {
    "name": "ipython",
    "version": 3
   },
   "file_extension": ".py",
   "mimetype": "text/x-python",
   "name": "python",
   "nbconvert_exporter": "python",
   "pygments_lexer": "ipython3",
   "version": "3.8.3"
  }
 },
 "nbformat": 4,
 "nbformat_minor": 1
}
